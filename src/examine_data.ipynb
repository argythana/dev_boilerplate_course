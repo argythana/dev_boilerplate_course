{
 "cells": [
  {
   "cell_type": "markdown",
   "id": "21d2e048-de93-4b88-9cbe-06a70b699591",
   "metadata": {},
   "source": [
    "## Use this notebook to try out one line commands interatively before defining a function.\n",
    "### Use different notebooks to try different functions."
   ]
  },
  {
   "cell_type": "code",
   "execution_count": null,
   "id": "29ba7a1e-e8dc-4198-accb-b307c69dd643",
   "metadata": {
    "ExecuteTime": {
     "end_time": "2023-10-17T14:20:10.917560600Z",
     "start_time": "2023-10-17T14:20:09.567218100Z"
    }
   },
   "outputs": [],
   "source": [
    "import pandas as pd"
   ]
  },
  {
   "cell_type": "code",
   "execution_count": null,
   "id": "0b4ad6f1-8ebb-4a16-a091-d9dc3b2b354d",
   "metadata": {
    "ExecuteTime": {
     "end_time": "2023-10-17T14:20:10.939515200Z",
     "start_time": "2023-10-17T14:20:10.921871600Z"
    }
   },
   "outputs": [],
   "source": [
    "df = pd.read_csv(\"data/run4moreProd.activities.csv\")"
   ]
  },
  {
   "cell_type": "code",
   "execution_count": null,
   "id": "161dca0d-e004-43c6-b40c-a5b68cf069bb",
   "metadata": {},
   "outputs": [],
   "source": [
    "df.head()"
   ]
  },
  {
   "cell_type": "code",
   "execution_count": null,
   "id": "f7e178e5-2753-4921-988d-743cb1d6704b",
   "metadata": {
    "ExecuteTime": {
     "end_time": "2023-10-17T14:20:10.970771300Z",
     "start_time": "2023-10-17T14:20:10.939515200Z"
    }
   },
   "outputs": [],
   "source": [
    "df[\"date\"] = pd.to_datetime(df[\"createdAt\"]).dt.date"
   ]
  },
  {
   "cell_type": "code",
   "execution_count": null,
   "id": "31935927-6633-4cd8-8824-40f66a020026",
   "metadata": {
    "ExecuteTime": {
     "end_time": "2023-10-17T14:20:10.986395900Z",
     "start_time": "2023-10-17T14:20:10.970771300Z"
    }
   },
   "outputs": [],
   "source": [
    "df.head(2)"
   ]
  },
  {
   "cell_type": "code",
   "execution_count": null,
   "id": "9f6faea6-910e-420f-a080-b57e473fe5dd",
   "metadata": {
    "ExecuteTime": {
     "end_time": "2023-10-17T14:20:11.015106500Z",
     "start_time": "2023-10-17T14:20:10.986395900Z"
    }
   },
   "outputs": [],
   "source": [
    "df = df.drop(\"_id\", axis=1)"
   ]
  },
  {
   "cell_type": "code",
   "execution_count": null,
   "id": "79724eb0-b994-460b-81c6-a265a6410a70",
   "metadata": {
    "ExecuteTime": {
     "end_time": "2023-10-17T14:20:11.070994600Z",
     "start_time": "2023-10-17T14:20:11.015106500Z"
    }
   },
   "outputs": [],
   "source": [
    "date = df.pop(\"date\")"
   ]
  },
  {
   "cell_type": "code",
   "execution_count": null,
   "id": "51725b8a-6abf-442d-830e-1fb46cc77263",
   "metadata": {
    "ExecuteTime": {
     "end_time": "2023-10-17T14:20:11.102248100Z",
     "start_time": "2023-10-17T14:20:11.030732300Z"
    }
   },
   "outputs": [],
   "source": [
    "df.insert(loc=0, column=\"date\", value=date)"
   ]
  },
  {
   "cell_type": "code",
   "execution_count": null,
   "id": "14649814-bccf-464c-9e22-800055ec5f08",
   "metadata": {
    "ExecuteTime": {
     "end_time": "2023-10-17T14:20:11.102248100Z",
     "start_time": "2023-10-17T14:20:11.055768300Z"
    }
   },
   "outputs": [],
   "source": [
    "df.head()"
   ]
  },
  {
   "cell_type": "code",
   "execution_count": null,
   "id": "4a5f48cc-919a-463f-8111-599d357bda9d",
   "metadata": {
    "ExecuteTime": {
     "end_time": "2023-10-17T14:20:11.102248100Z",
     "start_time": "2023-10-17T14:20:11.070994600Z"
    }
   },
   "outputs": [],
   "source": [
    "df_by_date = df.groupby(\"date\").sum()#.reset_index()\n",
    "df_by_date.head(2)"
   ]
  },
  {
   "cell_type": "code",
   "execution_count": null,
   "id": "d3718948-0c17-453f-8d37-c28ce786a378",
   "metadata": {
    "ExecuteTime": {
     "end_time": "2023-10-17T14:20:11.102248100Z",
     "start_time": "2023-10-17T14:20:11.086622900Z"
    }
   },
   "outputs": [],
   "source": [
    "df_acts = df.groupby(\"date\").size().to_frame(name=\"activities\").reset_index()\n",
    "df_acts.head()"
   ]
  },
  {
   "cell_type": "code",
   "execution_count": null,
   "id": "08e35527-0b42-4b4e-bffc-f37acc8da1dd",
   "metadata": {},
   "outputs": [],
   "source": [
    "df_users = df.groupby(\"date\")[\"user_id\"].nunique().reset_index()\n",
    "df_users.rename(columns={\"user_id\": \"users\"}, inplace=True)\n",
    "df_users.head()"
   ]
  },
  {
   "cell_type": "code",
   "execution_count": null,
   "id": "75d6823c-63bf-400f-a4b6-8d70575f8539",
   "metadata": {},
   "outputs": [],
   "source": []
  }
 ],
 "metadata": {
  "kernelspec": {
   "display_name": "Python 3 (ipykernel)",
   "language": "python",
   "name": "python3"
  },
  "language_info": {
   "codemirror_mode": {
    "name": "ipython",
    "version": 3
   },
   "file_extension": ".py",
   "mimetype": "text/x-python",
   "name": "python",
   "nbconvert_exporter": "python",
   "pygments_lexer": "ipython3",
   "version": "3.10.10"
  }
 },
 "nbformat": 4,
 "nbformat_minor": 5
}
