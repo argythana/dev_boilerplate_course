{
 "cells": [
  {
   "cell_type": "code",
   "execution_count": 11,
   "id": "29ba7a1e-e8dc-4198-accb-b307c69dd643",
   "metadata": {
    "ExecuteTime": {
     "end_time": "2023-10-17T10:21:41.220732100Z",
     "start_time": "2023-10-17T10:21:41.205110100Z"
    }
   },
   "outputs": [],
   "source": [
    "import pandas as pd"
   ]
  },
  {
   "cell_type": "code",
   "execution_count": 12,
   "id": "0b4ad6f1-8ebb-4a16-a091-d9dc3b2b354d",
   "metadata": {
    "ExecuteTime": {
     "end_time": "2023-10-17T10:21:41.525640300Z",
     "start_time": "2023-10-17T10:21:41.494384300Z"
    }
   },
   "outputs": [],
   "source": [
    "df = pd.read_csv(\"data/run4moreProd.activities.csv\")"
   ]
  },
  {
   "cell_type": "code",
   "execution_count": 13,
   "id": "f7e178e5-2753-4921-988d-743cb1d6704b",
   "metadata": {
    "ExecuteTime": {
     "end_time": "2023-10-17T10:21:41.757260100Z",
     "start_time": "2023-10-17T10:21:41.710640800Z"
    }
   },
   "outputs": [],
   "source": [
    "df[\"date\"] = pd.to_datetime(df[\"createdAt\"]).dt.date"
   ]
  },
  {
   "cell_type": "code",
   "execution_count": 14,
   "id": "31935927-6633-4cd8-8824-40f66a020026",
   "metadata": {
    "ExecuteTime": {
     "end_time": "2023-10-17T10:21:41.942282200Z",
     "start_time": "2023-10-17T10:21:41.926654900Z"
    }
   },
   "outputs": [
    {
     "data": {
      "text/plain": "                        _id  distance  pace.hours  pace.minutes  pace.seconds  \\\n0  62873d1f181a6d5adf0f62b2      0.17           0            14            39   \n1  62873d8e181a6d5adf0f62c2      4.10           0            13            19   \n2  62874060181a6d5adf0f62f0      0.15           0            17            32   \n3  628740a3181a6d5adf0f62fd      0.00           0             0             0   \n4  62874460181a6d5adf0f6318      0.54           0            10             2   \n\n   points  time.hours  time.minutes  time.seconds                   user_id  \\\n0      17           0             2            33  6206e062fb2d16fd06802520   \n1     410           0            54            41  6251c082520daa3cd653d214   \n2      15           0             2            40  6206e062fb2d16fd06802520   \n3       0           0             0            59  6206e062fb2d16fd06802520   \n4      54           0             5            29  6206e062fb2d16fd06802520   \n\n                  createdAt      type        date  \n0  2022-05-20T07:02:55.295Z  walk-run  2022-05-20  \n1  2022-05-20T07:04:46.043Z  walk-run  2022-05-20  \n2  2022-05-20T07:16:48.452Z  walk-run  2022-05-20  \n3  2022-05-20T07:17:55.980Z  walk-run  2022-05-20  \n4  2022-05-20T07:33:52.419Z  walk-run  2022-05-20  ",
      "text/html": "<div>\n<style scoped>\n    .dataframe tbody tr th:only-of-type {\n        vertical-align: middle;\n    }\n\n    .dataframe tbody tr th {\n        vertical-align: top;\n    }\n\n    .dataframe thead th {\n        text-align: right;\n    }\n</style>\n<table border=\"1\" class=\"dataframe\">\n  <thead>\n    <tr style=\"text-align: right;\">\n      <th></th>\n      <th>_id</th>\n      <th>distance</th>\n      <th>pace.hours</th>\n      <th>pace.minutes</th>\n      <th>pace.seconds</th>\n      <th>points</th>\n      <th>time.hours</th>\n      <th>time.minutes</th>\n      <th>time.seconds</th>\n      <th>user_id</th>\n      <th>createdAt</th>\n      <th>type</th>\n      <th>date</th>\n    </tr>\n  </thead>\n  <tbody>\n    <tr>\n      <th>0</th>\n      <td>62873d1f181a6d5adf0f62b2</td>\n      <td>0.17</td>\n      <td>0</td>\n      <td>14</td>\n      <td>39</td>\n      <td>17</td>\n      <td>0</td>\n      <td>2</td>\n      <td>33</td>\n      <td>6206e062fb2d16fd06802520</td>\n      <td>2022-05-20T07:02:55.295Z</td>\n      <td>walk-run</td>\n      <td>2022-05-20</td>\n    </tr>\n    <tr>\n      <th>1</th>\n      <td>62873d8e181a6d5adf0f62c2</td>\n      <td>4.10</td>\n      <td>0</td>\n      <td>13</td>\n      <td>19</td>\n      <td>410</td>\n      <td>0</td>\n      <td>54</td>\n      <td>41</td>\n      <td>6251c082520daa3cd653d214</td>\n      <td>2022-05-20T07:04:46.043Z</td>\n      <td>walk-run</td>\n      <td>2022-05-20</td>\n    </tr>\n    <tr>\n      <th>2</th>\n      <td>62874060181a6d5adf0f62f0</td>\n      <td>0.15</td>\n      <td>0</td>\n      <td>17</td>\n      <td>32</td>\n      <td>15</td>\n      <td>0</td>\n      <td>2</td>\n      <td>40</td>\n      <td>6206e062fb2d16fd06802520</td>\n      <td>2022-05-20T07:16:48.452Z</td>\n      <td>walk-run</td>\n      <td>2022-05-20</td>\n    </tr>\n    <tr>\n      <th>3</th>\n      <td>628740a3181a6d5adf0f62fd</td>\n      <td>0.00</td>\n      <td>0</td>\n      <td>0</td>\n      <td>0</td>\n      <td>0</td>\n      <td>0</td>\n      <td>0</td>\n      <td>59</td>\n      <td>6206e062fb2d16fd06802520</td>\n      <td>2022-05-20T07:17:55.980Z</td>\n      <td>walk-run</td>\n      <td>2022-05-20</td>\n    </tr>\n    <tr>\n      <th>4</th>\n      <td>62874460181a6d5adf0f6318</td>\n      <td>0.54</td>\n      <td>0</td>\n      <td>10</td>\n      <td>2</td>\n      <td>54</td>\n      <td>0</td>\n      <td>5</td>\n      <td>29</td>\n      <td>6206e062fb2d16fd06802520</td>\n      <td>2022-05-20T07:33:52.419Z</td>\n      <td>walk-run</td>\n      <td>2022-05-20</td>\n    </tr>\n  </tbody>\n</table>\n</div>"
     },
     "execution_count": 14,
     "metadata": {},
     "output_type": "execute_result"
    }
   ],
   "source": [
    "df.head()"
   ]
  },
  {
   "cell_type": "code",
   "execution_count": 15,
   "id": "9f6faea6-910e-420f-a080-b57e473fe5dd",
   "metadata": {
    "ExecuteTime": {
     "end_time": "2023-10-17T10:21:42.158165300Z",
     "start_time": "2023-10-17T10:21:42.126896900Z"
    }
   },
   "outputs": [],
   "source": [
    "df = df.drop(\"_id\", axis=1)"
   ]
  },
  {
   "cell_type": "code",
   "execution_count": 6,
   "id": "79724eb0-b994-460b-81c6-a265a6410a70",
   "metadata": {
    "ExecuteTime": {
     "start_time": "2023-10-17T10:21:36.894790300Z"
    }
   },
   "outputs": [],
   "source": [
    "date = df.pop(\"date\")"
   ]
  },
  {
   "cell_type": "code",
   "execution_count": 7,
   "id": "51725b8a-6abf-442d-830e-1fb46cc77263",
   "metadata": {
    "ExecuteTime": {
     "start_time": "2023-10-17T10:21:36.910417600Z"
    }
   },
   "outputs": [],
   "source": [
    "df.insert(loc=0, column=\"date\", value=date)"
   ]
  },
  {
   "cell_type": "code",
   "execution_count": 8,
   "id": "14649814-bccf-464c-9e22-800055ec5f08",
   "metadata": {
    "ExecuteTime": {
     "start_time": "2023-10-17T10:21:36.926043800Z"
    }
   },
   "outputs": [
    {
     "data": {
      "text/plain": "         date  distance  pace.hours  pace.minutes  pace.seconds  points  \\\n0  2022-05-20      0.17           0            14            39      17   \n1  2022-05-20      4.10           0            13            19     410   \n2  2022-05-20      0.15           0            17            32      15   \n3  2022-05-20      0.00           0             0             0       0   \n4  2022-05-20      0.54           0            10             2      54   \n\n   time.hours  time.minutes  time.seconds                   user_id  \\\n0           0             2            33  6206e062fb2d16fd06802520   \n1           0            54            41  6251c082520daa3cd653d214   \n2           0             2            40  6206e062fb2d16fd06802520   \n3           0             0            59  6206e062fb2d16fd06802520   \n4           0             5            29  6206e062fb2d16fd06802520   \n\n                  createdAt      type  \n0  2022-05-20T07:02:55.295Z  walk-run  \n1  2022-05-20T07:04:46.043Z  walk-run  \n2  2022-05-20T07:16:48.452Z  walk-run  \n3  2022-05-20T07:17:55.980Z  walk-run  \n4  2022-05-20T07:33:52.419Z  walk-run  ",
      "text/html": "<div>\n<style scoped>\n    .dataframe tbody tr th:only-of-type {\n        vertical-align: middle;\n    }\n\n    .dataframe tbody tr th {\n        vertical-align: top;\n    }\n\n    .dataframe thead th {\n        text-align: right;\n    }\n</style>\n<table border=\"1\" class=\"dataframe\">\n  <thead>\n    <tr style=\"text-align: right;\">\n      <th></th>\n      <th>date</th>\n      <th>distance</th>\n      <th>pace.hours</th>\n      <th>pace.minutes</th>\n      <th>pace.seconds</th>\n      <th>points</th>\n      <th>time.hours</th>\n      <th>time.minutes</th>\n      <th>time.seconds</th>\n      <th>user_id</th>\n      <th>createdAt</th>\n      <th>type</th>\n    </tr>\n  </thead>\n  <tbody>\n    <tr>\n      <th>0</th>\n      <td>2022-05-20</td>\n      <td>0.17</td>\n      <td>0</td>\n      <td>14</td>\n      <td>39</td>\n      <td>17</td>\n      <td>0</td>\n      <td>2</td>\n      <td>33</td>\n      <td>6206e062fb2d16fd06802520</td>\n      <td>2022-05-20T07:02:55.295Z</td>\n      <td>walk-run</td>\n    </tr>\n    <tr>\n      <th>1</th>\n      <td>2022-05-20</td>\n      <td>4.10</td>\n      <td>0</td>\n      <td>13</td>\n      <td>19</td>\n      <td>410</td>\n      <td>0</td>\n      <td>54</td>\n      <td>41</td>\n      <td>6251c082520daa3cd653d214</td>\n      <td>2022-05-20T07:04:46.043Z</td>\n      <td>walk-run</td>\n    </tr>\n    <tr>\n      <th>2</th>\n      <td>2022-05-20</td>\n      <td>0.15</td>\n      <td>0</td>\n      <td>17</td>\n      <td>32</td>\n      <td>15</td>\n      <td>0</td>\n      <td>2</td>\n      <td>40</td>\n      <td>6206e062fb2d16fd06802520</td>\n      <td>2022-05-20T07:16:48.452Z</td>\n      <td>walk-run</td>\n    </tr>\n    <tr>\n      <th>3</th>\n      <td>2022-05-20</td>\n      <td>0.00</td>\n      <td>0</td>\n      <td>0</td>\n      <td>0</td>\n      <td>0</td>\n      <td>0</td>\n      <td>0</td>\n      <td>59</td>\n      <td>6206e062fb2d16fd06802520</td>\n      <td>2022-05-20T07:17:55.980Z</td>\n      <td>walk-run</td>\n    </tr>\n    <tr>\n      <th>4</th>\n      <td>2022-05-20</td>\n      <td>0.54</td>\n      <td>0</td>\n      <td>10</td>\n      <td>2</td>\n      <td>54</td>\n      <td>0</td>\n      <td>5</td>\n      <td>29</td>\n      <td>6206e062fb2d16fd06802520</td>\n      <td>2022-05-20T07:33:52.419Z</td>\n      <td>walk-run</td>\n    </tr>\n  </tbody>\n</table>\n</div>"
     },
     "execution_count": 8,
     "metadata": {},
     "output_type": "execute_result"
    }
   ],
   "source": [
    "df.head()"
   ]
  },
  {
   "cell_type": "code",
   "execution_count": 9,
   "id": "4a5f48cc-919a-463f-8111-599d357bda9d",
   "metadata": {
    "ExecuteTime": {
     "start_time": "2023-10-17T10:21:36.944635900Z"
    }
   },
   "outputs": [
    {
     "data": {
      "text/plain": "            distance  pace.hours  pace.minutes  pace.seconds  points  \\\ndate                                                                   \n2022-05-20    176.08           0           360           946   17608   \n2022-05-21    156.81           0           336           643   15681   \n2022-05-22    207.69           0           391           815   20769   \n2022-05-23     34.08           0           280           468    3408   \n2022-05-24    408.67           0           597          1191   40866   \n\n            time.hours  time.minutes  time.seconds  \\\ndate                                                 \n2022-05-20           9           530           748   \n2022-05-21          31           444           646   \n2022-05-22          42           646           960   \n2022-05-23           3           289           507   \n2022-05-24          60          1178          1372   \n\n                                                      user_id  \\\ndate                                                            \n2022-05-20  6206e062fb2d16fd068025206251c082520daa3cd653d2...   \n2022-05-21  6206e062fb2d16fd068025206281c4e0d34af571d8acb5...   \n2022-05-22  6206e062fb2d16fd068025206281c4e0d34af571d8acb5...   \n2022-05-23  620b5293fb2d16fd06802a61620e6928fb2d16fd06802c...   \n2022-05-24  620b5293fb2d16fd06802a616206e062fb2d16fd068025...   \n\n                                                    createdAt  \\\ndate                                                            \n2022-05-20  2022-05-20T07:02:55.295Z2022-05-20T07:04:46.04...   \n2022-05-21  2022-05-21T01:53:35.219Z2022-05-21T04:51:47.08...   \n2022-05-22  2022-05-22T06:36:14.731Z2022-05-22T06:51:19.84...   \n2022-05-23  2022-05-23T05:14:38.596Z2022-05-23T06:11:33.96...   \n2022-05-24  2022-05-24T04:31:12.733Z2022-05-24T05:24:37.72...   \n\n                                                         type  \ndate                                                           \n2022-05-20  walk-runwalk-runwalk-runwalk-runwalk-runwalk-r...  \n2022-05-21  walk-runwalk-runwalk-runwalk-runwalk-runwalk-r...  \n2022-05-22  walk-runwalk-runwalk-runwalk-runwalk-runwalk-r...  \n2022-05-23  walk-runwalk-runwalk-runwalk-runwalk-runwalk-r...  \n2022-05-24  walk-runwalk-runwalk-runwalk-runwalk-runwalk-r...  ",
      "text/html": "<div>\n<style scoped>\n    .dataframe tbody tr th:only-of-type {\n        vertical-align: middle;\n    }\n\n    .dataframe tbody tr th {\n        vertical-align: top;\n    }\n\n    .dataframe thead th {\n        text-align: right;\n    }\n</style>\n<table border=\"1\" class=\"dataframe\">\n  <thead>\n    <tr style=\"text-align: right;\">\n      <th></th>\n      <th>distance</th>\n      <th>pace.hours</th>\n      <th>pace.minutes</th>\n      <th>pace.seconds</th>\n      <th>points</th>\n      <th>time.hours</th>\n      <th>time.minutes</th>\n      <th>time.seconds</th>\n      <th>user_id</th>\n      <th>createdAt</th>\n      <th>type</th>\n    </tr>\n    <tr>\n      <th>date</th>\n      <th></th>\n      <th></th>\n      <th></th>\n      <th></th>\n      <th></th>\n      <th></th>\n      <th></th>\n      <th></th>\n      <th></th>\n      <th></th>\n      <th></th>\n    </tr>\n  </thead>\n  <tbody>\n    <tr>\n      <th>2022-05-20</th>\n      <td>176.08</td>\n      <td>0</td>\n      <td>360</td>\n      <td>946</td>\n      <td>17608</td>\n      <td>9</td>\n      <td>530</td>\n      <td>748</td>\n      <td>6206e062fb2d16fd068025206251c082520daa3cd653d2...</td>\n      <td>2022-05-20T07:02:55.295Z2022-05-20T07:04:46.04...</td>\n      <td>walk-runwalk-runwalk-runwalk-runwalk-runwalk-r...</td>\n    </tr>\n    <tr>\n      <th>2022-05-21</th>\n      <td>156.81</td>\n      <td>0</td>\n      <td>336</td>\n      <td>643</td>\n      <td>15681</td>\n      <td>31</td>\n      <td>444</td>\n      <td>646</td>\n      <td>6206e062fb2d16fd068025206281c4e0d34af571d8acb5...</td>\n      <td>2022-05-21T01:53:35.219Z2022-05-21T04:51:47.08...</td>\n      <td>walk-runwalk-runwalk-runwalk-runwalk-runwalk-r...</td>\n    </tr>\n    <tr>\n      <th>2022-05-22</th>\n      <td>207.69</td>\n      <td>0</td>\n      <td>391</td>\n      <td>815</td>\n      <td>20769</td>\n      <td>42</td>\n      <td>646</td>\n      <td>960</td>\n      <td>6206e062fb2d16fd068025206281c4e0d34af571d8acb5...</td>\n      <td>2022-05-22T06:36:14.731Z2022-05-22T06:51:19.84...</td>\n      <td>walk-runwalk-runwalk-runwalk-runwalk-runwalk-r...</td>\n    </tr>\n    <tr>\n      <th>2022-05-23</th>\n      <td>34.08</td>\n      <td>0</td>\n      <td>280</td>\n      <td>468</td>\n      <td>3408</td>\n      <td>3</td>\n      <td>289</td>\n      <td>507</td>\n      <td>620b5293fb2d16fd06802a61620e6928fb2d16fd06802c...</td>\n      <td>2022-05-23T05:14:38.596Z2022-05-23T06:11:33.96...</td>\n      <td>walk-runwalk-runwalk-runwalk-runwalk-runwalk-r...</td>\n    </tr>\n    <tr>\n      <th>2022-05-24</th>\n      <td>408.67</td>\n      <td>0</td>\n      <td>597</td>\n      <td>1191</td>\n      <td>40866</td>\n      <td>60</td>\n      <td>1178</td>\n      <td>1372</td>\n      <td>620b5293fb2d16fd06802a616206e062fb2d16fd068025...</td>\n      <td>2022-05-24T04:31:12.733Z2022-05-24T05:24:37.72...</td>\n      <td>walk-runwalk-runwalk-runwalk-runwalk-runwalk-r...</td>\n    </tr>\n  </tbody>\n</table>\n</div>"
     },
     "execution_count": 9,
     "metadata": {},
     "output_type": "execute_result"
    }
   ],
   "source": [
    "df_by_date = df.groupby(\"date\").sum()#.reset_index()\n",
    "df_by_date.head()"
   ]
  },
  {
   "cell_type": "code",
   "execution_count": 10,
   "id": "d3718948-0c17-453f-8d37-c28ce786a378",
   "metadata": {
    "ExecuteTime": {
     "start_time": "2023-10-17T10:21:36.964773500Z"
    }
   },
   "outputs": [
    {
     "data": {
      "text/plain": "         date  ativities\n0  2022-05-20         41\n1  2022-05-21         27\n2  2022-05-22         29\n3  2022-05-23         18\n4  2022-05-24         50",
      "text/html": "<div>\n<style scoped>\n    .dataframe tbody tr th:only-of-type {\n        vertical-align: middle;\n    }\n\n    .dataframe tbody tr th {\n        vertical-align: top;\n    }\n\n    .dataframe thead th {\n        text-align: right;\n    }\n</style>\n<table border=\"1\" class=\"dataframe\">\n  <thead>\n    <tr style=\"text-align: right;\">\n      <th></th>\n      <th>date</th>\n      <th>ativities</th>\n    </tr>\n  </thead>\n  <tbody>\n    <tr>\n      <th>0</th>\n      <td>2022-05-20</td>\n      <td>41</td>\n    </tr>\n    <tr>\n      <th>1</th>\n      <td>2022-05-21</td>\n      <td>27</td>\n    </tr>\n    <tr>\n      <th>2</th>\n      <td>2022-05-22</td>\n      <td>29</td>\n    </tr>\n    <tr>\n      <th>3</th>\n      <td>2022-05-23</td>\n      <td>18</td>\n    </tr>\n    <tr>\n      <th>4</th>\n      <td>2022-05-24</td>\n      <td>50</td>\n    </tr>\n  </tbody>\n</table>\n</div>"
     },
     "execution_count": 10,
     "metadata": {},
     "output_type": "execute_result"
    }
   ],
   "source": [
    "df_acts = df.groupby(\"date\").size().to_frame(name=\"ativities\").reset_index()\n",
    "df_acts.head()"
   ]
  },
  {
   "cell_type": "code",
   "execution_count": 103,
   "id": "08e35527-0b42-4b4e-bffc-f37acc8da1dd",
   "metadata": {},
   "outputs": [
    {
     "data": {
      "text/html": [
       "<div>\n",
       "<style scoped>\n",
       "    .dataframe tbody tr th:only-of-type {\n",
       "        vertical-align: middle;\n",
       "    }\n",
       "\n",
       "    .dataframe tbody tr th {\n",
       "        vertical-align: top;\n",
       "    }\n",
       "\n",
       "    .dataframe thead th {\n",
       "        text-align: right;\n",
       "    }\n",
       "</style>\n",
       "<table border=\"1\" class=\"dataframe\">\n",
       "  <thead>\n",
       "    <tr style=\"text-align: right;\">\n",
       "      <th></th>\n",
       "      <th>date</th>\n",
       "      <th>users</th>\n",
       "    </tr>\n",
       "  </thead>\n",
       "  <tbody>\n",
       "    <tr>\n",
       "      <th>0</th>\n",
       "      <td>2022-05-20</td>\n",
       "      <td>18</td>\n",
       "    </tr>\n",
       "    <tr>\n",
       "      <th>1</th>\n",
       "      <td>2022-05-21</td>\n",
       "      <td>16</td>\n",
       "    </tr>\n",
       "    <tr>\n",
       "      <th>2</th>\n",
       "      <td>2022-05-22</td>\n",
       "      <td>15</td>\n",
       "    </tr>\n",
       "    <tr>\n",
       "      <th>3</th>\n",
       "      <td>2022-05-23</td>\n",
       "      <td>10</td>\n",
       "    </tr>\n",
       "    <tr>\n",
       "      <th>4</th>\n",
       "      <td>2022-05-24</td>\n",
       "      <td>29</td>\n",
       "    </tr>\n",
       "  </tbody>\n",
       "</table>\n",
       "</div>"
      ],
      "text/plain": [
       "         date  users\n",
       "0  2022-05-20     18\n",
       "1  2022-05-21     16\n",
       "2  2022-05-22     15\n",
       "3  2022-05-23     10\n",
       "4  2022-05-24     29"
      ]
     },
     "execution_count": 103,
     "metadata": {},
     "output_type": "execute_result"
    }
   ],
   "source": [
    "df_users = df.groupby(\"date\")[\"user_id\"].nunique().reset_index()\n",
    "df_users.rename(columns={\"user_id\": \"users\"}, inplace=True)\n",
    "df_users.head()"
   ]
  },
  {
   "cell_type": "code",
   "execution_count": null,
   "id": "75d6823c-63bf-400f-a4b6-8d70575f8539",
   "metadata": {},
   "outputs": [],
   "source": []
  }
 ],
 "metadata": {
  "kernelspec": {
   "display_name": "Python 3 (ipykernel)",
   "language": "python",
   "name": "python3"
  },
  "language_info": {
   "codemirror_mode": {
    "name": "ipython",
    "version": 3
   },
   "file_extension": ".py",
   "mimetype": "text/x-python",
   "name": "python",
   "nbconvert_exporter": "python",
   "pygments_lexer": "ipython3",
   "version": "3.10.10"
  }
 },
 "nbformat": 4,
 "nbformat_minor": 5
}
