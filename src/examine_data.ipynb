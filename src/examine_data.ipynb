{
 "cells": [
  {
   "cell_type": "code",
   "execution_count": 14,
   "id": "29ba7a1e-e8dc-4198-accb-b307c69dd643",
   "metadata": {
    "ExecuteTime": {
     "end_time": "2023-10-17T10:21:41.220732100Z",
     "start_time": "2023-10-17T10:21:41.205110100Z"
    }
   },
   "outputs": [],
   "source": [
    "import pandas as pd\n",
    "import streamlit as st\n",
    "import plotly.express as px"
   ]
  },
  {
   "cell_type": "code",
   "execution_count": 2,
   "id": "0b4ad6f1-8ebb-4a16-a091-d9dc3b2b354d",
   "metadata": {
    "ExecuteTime": {
     "end_time": "2023-10-17T10:21:41.525640300Z",
     "start_time": "2023-10-17T10:21:41.494384300Z"
    }
   },
   "outputs": [],
   "source": [
    "df = pd.read_csv(\"data/run4moreProd.activities.csv\")"
   ]
  },
  {
   "cell_type": "code",
   "execution_count": 3,
   "id": "f7e178e5-2753-4921-988d-743cb1d6704b",
   "metadata": {
    "ExecuteTime": {
     "end_time": "2023-10-17T10:21:41.757260100Z",
     "start_time": "2023-10-17T10:21:41.710640800Z"
    }
   },
   "outputs": [],
   "source": [
    "df[\"date\"] = pd.to_datetime(df[\"createdAt\"]).dt.date"
   ]
  },
  {
   "cell_type": "code",
   "execution_count": 5,
   "id": "31935927-6633-4cd8-8824-40f66a020026",
   "metadata": {
    "ExecuteTime": {
     "end_time": "2023-10-17T10:21:41.942282200Z",
     "start_time": "2023-10-17T10:21:41.926654900Z"
    }
   },
   "outputs": [
    {
     "data": {
      "text/html": [
       "<div>\n",
       "<style scoped>\n",
       "    .dataframe tbody tr th:only-of-type {\n",
       "        vertical-align: middle;\n",
       "    }\n",
       "\n",
       "    .dataframe tbody tr th {\n",
       "        vertical-align: top;\n",
       "    }\n",
       "\n",
       "    .dataframe thead th {\n",
       "        text-align: right;\n",
       "    }\n",
       "</style>\n",
       "<table border=\"1\" class=\"dataframe\">\n",
       "  <thead>\n",
       "    <tr style=\"text-align: right;\">\n",
       "      <th></th>\n",
       "      <th>_id</th>\n",
       "      <th>distance</th>\n",
       "      <th>pace.hours</th>\n",
       "      <th>pace.minutes</th>\n",
       "      <th>pace.seconds</th>\n",
       "      <th>points</th>\n",
       "      <th>time.hours</th>\n",
       "      <th>time.minutes</th>\n",
       "      <th>time.seconds</th>\n",
       "      <th>user_id</th>\n",
       "      <th>createdAt</th>\n",
       "      <th>type</th>\n",
       "      <th>date</th>\n",
       "    </tr>\n",
       "  </thead>\n",
       "  <tbody>\n",
       "    <tr>\n",
       "      <th>0</th>\n",
       "      <td>62873d1f181a6d5adf0f62b2</td>\n",
       "      <td>0.17</td>\n",
       "      <td>0</td>\n",
       "      <td>14</td>\n",
       "      <td>39</td>\n",
       "      <td>17</td>\n",
       "      <td>0</td>\n",
       "      <td>2</td>\n",
       "      <td>33</td>\n",
       "      <td>6206e062fb2d16fd06802520</td>\n",
       "      <td>2022-05-20T07:02:55.295Z</td>\n",
       "      <td>walk-run</td>\n",
       "      <td>2022-05-20</td>\n",
       "    </tr>\n",
       "    <tr>\n",
       "      <th>1</th>\n",
       "      <td>62873d8e181a6d5adf0f62c2</td>\n",
       "      <td>4.10</td>\n",
       "      <td>0</td>\n",
       "      <td>13</td>\n",
       "      <td>19</td>\n",
       "      <td>410</td>\n",
       "      <td>0</td>\n",
       "      <td>54</td>\n",
       "      <td>41</td>\n",
       "      <td>6251c082520daa3cd653d214</td>\n",
       "      <td>2022-05-20T07:04:46.043Z</td>\n",
       "      <td>walk-run</td>\n",
       "      <td>2022-05-20</td>\n",
       "    </tr>\n",
       "  </tbody>\n",
       "</table>\n",
       "</div>"
      ],
      "text/plain": [
       "                        _id  distance  pace.hours  pace.minutes  pace.seconds  \\\n",
       "0  62873d1f181a6d5adf0f62b2      0.17           0            14            39   \n",
       "1  62873d8e181a6d5adf0f62c2      4.10           0            13            19   \n",
       "\n",
       "   points  time.hours  time.minutes  time.seconds                   user_id  \\\n",
       "0      17           0             2            33  6206e062fb2d16fd06802520   \n",
       "1     410           0            54            41  6251c082520daa3cd653d214   \n",
       "\n",
       "                  createdAt      type        date  \n",
       "0  2022-05-20T07:02:55.295Z  walk-run  2022-05-20  \n",
       "1  2022-05-20T07:04:46.043Z  walk-run  2022-05-20  "
      ]
     },
     "execution_count": 5,
     "metadata": {},
     "output_type": "execute_result"
    }
   ],
   "source": [
    "df.head(2)"
   ]
  },
  {
   "cell_type": "code",
   "execution_count": 6,
   "id": "9f6faea6-910e-420f-a080-b57e473fe5dd",
   "metadata": {
    "ExecuteTime": {
     "end_time": "2023-10-17T10:21:42.158165300Z",
     "start_time": "2023-10-17T10:21:42.126896900Z"
    }
   },
   "outputs": [],
   "source": [
    "df = df.drop(\"_id\", axis=1)"
   ]
  },
  {
   "cell_type": "code",
   "execution_count": 7,
   "id": "79724eb0-b994-460b-81c6-a265a6410a70",
   "metadata": {
    "ExecuteTime": {
     "start_time": "2023-10-17T10:21:36.894790300Z"
    }
   },
   "outputs": [],
   "source": [
    "date = df.pop(\"date\")"
   ]
  },
  {
   "cell_type": "code",
   "execution_count": 8,
   "id": "51725b8a-6abf-442d-830e-1fb46cc77263",
   "metadata": {
    "ExecuteTime": {
     "start_time": "2023-10-17T10:21:36.910417600Z"
    }
   },
   "outputs": [],
   "source": [
    "df.insert(loc=0, column=\"date\", value=date)"
   ]
  },
  {
   "cell_type": "code",
   "execution_count": 9,
   "id": "14649814-bccf-464c-9e22-800055ec5f08",
   "metadata": {
    "ExecuteTime": {
     "start_time": "2023-10-17T10:21:36.926043800Z"
    }
   },
   "outputs": [
    {
     "data": {
      "text/html": [
       "<div>\n",
       "<style scoped>\n",
       "    .dataframe tbody tr th:only-of-type {\n",
       "        vertical-align: middle;\n",
       "    }\n",
       "\n",
       "    .dataframe tbody tr th {\n",
       "        vertical-align: top;\n",
       "    }\n",
       "\n",
       "    .dataframe thead th {\n",
       "        text-align: right;\n",
       "    }\n",
       "</style>\n",
       "<table border=\"1\" class=\"dataframe\">\n",
       "  <thead>\n",
       "    <tr style=\"text-align: right;\">\n",
       "      <th></th>\n",
       "      <th>date</th>\n",
       "      <th>distance</th>\n",
       "      <th>pace.hours</th>\n",
       "      <th>pace.minutes</th>\n",
       "      <th>pace.seconds</th>\n",
       "      <th>points</th>\n",
       "      <th>time.hours</th>\n",
       "      <th>time.minutes</th>\n",
       "      <th>time.seconds</th>\n",
       "      <th>user_id</th>\n",
       "      <th>createdAt</th>\n",
       "      <th>type</th>\n",
       "    </tr>\n",
       "  </thead>\n",
       "  <tbody>\n",
       "    <tr>\n",
       "      <th>0</th>\n",
       "      <td>2022-05-20</td>\n",
       "      <td>0.17</td>\n",
       "      <td>0</td>\n",
       "      <td>14</td>\n",
       "      <td>39</td>\n",
       "      <td>17</td>\n",
       "      <td>0</td>\n",
       "      <td>2</td>\n",
       "      <td>33</td>\n",
       "      <td>6206e062fb2d16fd06802520</td>\n",
       "      <td>2022-05-20T07:02:55.295Z</td>\n",
       "      <td>walk-run</td>\n",
       "    </tr>\n",
       "    <tr>\n",
       "      <th>1</th>\n",
       "      <td>2022-05-20</td>\n",
       "      <td>4.10</td>\n",
       "      <td>0</td>\n",
       "      <td>13</td>\n",
       "      <td>19</td>\n",
       "      <td>410</td>\n",
       "      <td>0</td>\n",
       "      <td>54</td>\n",
       "      <td>41</td>\n",
       "      <td>6251c082520daa3cd653d214</td>\n",
       "      <td>2022-05-20T07:04:46.043Z</td>\n",
       "      <td>walk-run</td>\n",
       "    </tr>\n",
       "    <tr>\n",
       "      <th>2</th>\n",
       "      <td>2022-05-20</td>\n",
       "      <td>0.15</td>\n",
       "      <td>0</td>\n",
       "      <td>17</td>\n",
       "      <td>32</td>\n",
       "      <td>15</td>\n",
       "      <td>0</td>\n",
       "      <td>2</td>\n",
       "      <td>40</td>\n",
       "      <td>6206e062fb2d16fd06802520</td>\n",
       "      <td>2022-05-20T07:16:48.452Z</td>\n",
       "      <td>walk-run</td>\n",
       "    </tr>\n",
       "    <tr>\n",
       "      <th>3</th>\n",
       "      <td>2022-05-20</td>\n",
       "      <td>0.00</td>\n",
       "      <td>0</td>\n",
       "      <td>0</td>\n",
       "      <td>0</td>\n",
       "      <td>0</td>\n",
       "      <td>0</td>\n",
       "      <td>0</td>\n",
       "      <td>59</td>\n",
       "      <td>6206e062fb2d16fd06802520</td>\n",
       "      <td>2022-05-20T07:17:55.980Z</td>\n",
       "      <td>walk-run</td>\n",
       "    </tr>\n",
       "    <tr>\n",
       "      <th>4</th>\n",
       "      <td>2022-05-20</td>\n",
       "      <td>0.54</td>\n",
       "      <td>0</td>\n",
       "      <td>10</td>\n",
       "      <td>2</td>\n",
       "      <td>54</td>\n",
       "      <td>0</td>\n",
       "      <td>5</td>\n",
       "      <td>29</td>\n",
       "      <td>6206e062fb2d16fd06802520</td>\n",
       "      <td>2022-05-20T07:33:52.419Z</td>\n",
       "      <td>walk-run</td>\n",
       "    </tr>\n",
       "  </tbody>\n",
       "</table>\n",
       "</div>"
      ],
      "text/plain": [
       "         date  distance  pace.hours  pace.minutes  pace.seconds  points  \\\n",
       "0  2022-05-20      0.17           0            14            39      17   \n",
       "1  2022-05-20      4.10           0            13            19     410   \n",
       "2  2022-05-20      0.15           0            17            32      15   \n",
       "3  2022-05-20      0.00           0             0             0       0   \n",
       "4  2022-05-20      0.54           0            10             2      54   \n",
       "\n",
       "   time.hours  time.minutes  time.seconds                   user_id  \\\n",
       "0           0             2            33  6206e062fb2d16fd06802520   \n",
       "1           0            54            41  6251c082520daa3cd653d214   \n",
       "2           0             2            40  6206e062fb2d16fd06802520   \n",
       "3           0             0            59  6206e062fb2d16fd06802520   \n",
       "4           0             5            29  6206e062fb2d16fd06802520   \n",
       "\n",
       "                  createdAt      type  \n",
       "0  2022-05-20T07:02:55.295Z  walk-run  \n",
       "1  2022-05-20T07:04:46.043Z  walk-run  \n",
       "2  2022-05-20T07:16:48.452Z  walk-run  \n",
       "3  2022-05-20T07:17:55.980Z  walk-run  \n",
       "4  2022-05-20T07:33:52.419Z  walk-run  "
      ]
     },
     "execution_count": 9,
     "metadata": {},
     "output_type": "execute_result"
    }
   ],
   "source": [
    "df.head()"
   ]
  },
  {
   "cell_type": "code",
   "execution_count": 10,
   "id": "4a5f48cc-919a-463f-8111-599d357bda9d",
   "metadata": {
    "ExecuteTime": {
     "start_time": "2023-10-17T10:21:36.944635900Z"
    }
   },
   "outputs": [
    {
     "data": {
      "text/html": [
       "<div>\n",
       "<style scoped>\n",
       "    .dataframe tbody tr th:only-of-type {\n",
       "        vertical-align: middle;\n",
       "    }\n",
       "\n",
       "    .dataframe tbody tr th {\n",
       "        vertical-align: top;\n",
       "    }\n",
       "\n",
       "    .dataframe thead th {\n",
       "        text-align: right;\n",
       "    }\n",
       "</style>\n",
       "<table border=\"1\" class=\"dataframe\">\n",
       "  <thead>\n",
       "    <tr style=\"text-align: right;\">\n",
       "      <th></th>\n",
       "      <th>distance</th>\n",
       "      <th>pace.hours</th>\n",
       "      <th>pace.minutes</th>\n",
       "      <th>pace.seconds</th>\n",
       "      <th>points</th>\n",
       "      <th>time.hours</th>\n",
       "      <th>time.minutes</th>\n",
       "      <th>time.seconds</th>\n",
       "      <th>user_id</th>\n",
       "      <th>createdAt</th>\n",
       "      <th>type</th>\n",
       "    </tr>\n",
       "    <tr>\n",
       "      <th>date</th>\n",
       "      <th></th>\n",
       "      <th></th>\n",
       "      <th></th>\n",
       "      <th></th>\n",
       "      <th></th>\n",
       "      <th></th>\n",
       "      <th></th>\n",
       "      <th></th>\n",
       "      <th></th>\n",
       "      <th></th>\n",
       "      <th></th>\n",
       "    </tr>\n",
       "  </thead>\n",
       "  <tbody>\n",
       "    <tr>\n",
       "      <th>2022-05-20</th>\n",
       "      <td>176.08</td>\n",
       "      <td>0</td>\n",
       "      <td>360</td>\n",
       "      <td>946</td>\n",
       "      <td>17608</td>\n",
       "      <td>9</td>\n",
       "      <td>530</td>\n",
       "      <td>748</td>\n",
       "      <td>6206e062fb2d16fd068025206251c082520daa3cd653d2...</td>\n",
       "      <td>2022-05-20T07:02:55.295Z2022-05-20T07:04:46.04...</td>\n",
       "      <td>walk-runwalk-runwalk-runwalk-runwalk-runwalk-r...</td>\n",
       "    </tr>\n",
       "    <tr>\n",
       "      <th>2022-05-21</th>\n",
       "      <td>156.81</td>\n",
       "      <td>0</td>\n",
       "      <td>336</td>\n",
       "      <td>643</td>\n",
       "      <td>15681</td>\n",
       "      <td>31</td>\n",
       "      <td>444</td>\n",
       "      <td>646</td>\n",
       "      <td>6206e062fb2d16fd068025206281c4e0d34af571d8acb5...</td>\n",
       "      <td>2022-05-21T01:53:35.219Z2022-05-21T04:51:47.08...</td>\n",
       "      <td>walk-runwalk-runwalk-runwalk-runwalk-runwalk-r...</td>\n",
       "    </tr>\n",
       "    <tr>\n",
       "      <th>2022-05-22</th>\n",
       "      <td>207.69</td>\n",
       "      <td>0</td>\n",
       "      <td>391</td>\n",
       "      <td>815</td>\n",
       "      <td>20769</td>\n",
       "      <td>42</td>\n",
       "      <td>646</td>\n",
       "      <td>960</td>\n",
       "      <td>6206e062fb2d16fd068025206281c4e0d34af571d8acb5...</td>\n",
       "      <td>2022-05-22T06:36:14.731Z2022-05-22T06:51:19.84...</td>\n",
       "      <td>walk-runwalk-runwalk-runwalk-runwalk-runwalk-r...</td>\n",
       "    </tr>\n",
       "    <tr>\n",
       "      <th>2022-05-23</th>\n",
       "      <td>34.08</td>\n",
       "      <td>0</td>\n",
       "      <td>280</td>\n",
       "      <td>468</td>\n",
       "      <td>3408</td>\n",
       "      <td>3</td>\n",
       "      <td>289</td>\n",
       "      <td>507</td>\n",
       "      <td>620b5293fb2d16fd06802a61620e6928fb2d16fd06802c...</td>\n",
       "      <td>2022-05-23T05:14:38.596Z2022-05-23T06:11:33.96...</td>\n",
       "      <td>walk-runwalk-runwalk-runwalk-runwalk-runwalk-r...</td>\n",
       "    </tr>\n",
       "    <tr>\n",
       "      <th>2022-05-24</th>\n",
       "      <td>408.67</td>\n",
       "      <td>0</td>\n",
       "      <td>597</td>\n",
       "      <td>1191</td>\n",
       "      <td>40866</td>\n",
       "      <td>60</td>\n",
       "      <td>1178</td>\n",
       "      <td>1372</td>\n",
       "      <td>620b5293fb2d16fd06802a616206e062fb2d16fd068025...</td>\n",
       "      <td>2022-05-24T04:31:12.733Z2022-05-24T05:24:37.72...</td>\n",
       "      <td>walk-runwalk-runwalk-runwalk-runwalk-runwalk-r...</td>\n",
       "    </tr>\n",
       "  </tbody>\n",
       "</table>\n",
       "</div>"
      ],
      "text/plain": [
       "            distance  pace.hours  pace.minutes  pace.seconds  points  \\\n",
       "date                                                                   \n",
       "2022-05-20    176.08           0           360           946   17608   \n",
       "2022-05-21    156.81           0           336           643   15681   \n",
       "2022-05-22    207.69           0           391           815   20769   \n",
       "2022-05-23     34.08           0           280           468    3408   \n",
       "2022-05-24    408.67           0           597          1191   40866   \n",
       "\n",
       "            time.hours  time.minutes  time.seconds  \\\n",
       "date                                                 \n",
       "2022-05-20           9           530           748   \n",
       "2022-05-21          31           444           646   \n",
       "2022-05-22          42           646           960   \n",
       "2022-05-23           3           289           507   \n",
       "2022-05-24          60          1178          1372   \n",
       "\n",
       "                                                      user_id  \\\n",
       "date                                                            \n",
       "2022-05-20  6206e062fb2d16fd068025206251c082520daa3cd653d2...   \n",
       "2022-05-21  6206e062fb2d16fd068025206281c4e0d34af571d8acb5...   \n",
       "2022-05-22  6206e062fb2d16fd068025206281c4e0d34af571d8acb5...   \n",
       "2022-05-23  620b5293fb2d16fd06802a61620e6928fb2d16fd06802c...   \n",
       "2022-05-24  620b5293fb2d16fd06802a616206e062fb2d16fd068025...   \n",
       "\n",
       "                                                    createdAt  \\\n",
       "date                                                            \n",
       "2022-05-20  2022-05-20T07:02:55.295Z2022-05-20T07:04:46.04...   \n",
       "2022-05-21  2022-05-21T01:53:35.219Z2022-05-21T04:51:47.08...   \n",
       "2022-05-22  2022-05-22T06:36:14.731Z2022-05-22T06:51:19.84...   \n",
       "2022-05-23  2022-05-23T05:14:38.596Z2022-05-23T06:11:33.96...   \n",
       "2022-05-24  2022-05-24T04:31:12.733Z2022-05-24T05:24:37.72...   \n",
       "\n",
       "                                                         type  \n",
       "date                                                           \n",
       "2022-05-20  walk-runwalk-runwalk-runwalk-runwalk-runwalk-r...  \n",
       "2022-05-21  walk-runwalk-runwalk-runwalk-runwalk-runwalk-r...  \n",
       "2022-05-22  walk-runwalk-runwalk-runwalk-runwalk-runwalk-r...  \n",
       "2022-05-23  walk-runwalk-runwalk-runwalk-runwalk-runwalk-r...  \n",
       "2022-05-24  walk-runwalk-runwalk-runwalk-runwalk-runwalk-r...  "
      ]
     },
     "execution_count": 10,
     "metadata": {},
     "output_type": "execute_result"
    }
   ],
   "source": [
    "df_by_date = df.groupby(\"date\").sum()#.reset_index()\n",
    "df_by_date.head()"
   ]
  },
  {
   "cell_type": "code",
   "execution_count": 11,
   "id": "d3718948-0c17-453f-8d37-c28ce786a378",
   "metadata": {
    "ExecuteTime": {
     "start_time": "2023-10-17T10:21:36.964773500Z"
    }
   },
   "outputs": [
    {
     "data": {
      "text/html": [
       "<div>\n",
       "<style scoped>\n",
       "    .dataframe tbody tr th:only-of-type {\n",
       "        vertical-align: middle;\n",
       "    }\n",
       "\n",
       "    .dataframe tbody tr th {\n",
       "        vertical-align: top;\n",
       "    }\n",
       "\n",
       "    .dataframe thead th {\n",
       "        text-align: right;\n",
       "    }\n",
       "</style>\n",
       "<table border=\"1\" class=\"dataframe\">\n",
       "  <thead>\n",
       "    <tr style=\"text-align: right;\">\n",
       "      <th></th>\n",
       "      <th>date</th>\n",
       "      <th>ativities</th>\n",
       "    </tr>\n",
       "  </thead>\n",
       "  <tbody>\n",
       "    <tr>\n",
       "      <th>0</th>\n",
       "      <td>2022-05-20</td>\n",
       "      <td>41</td>\n",
       "    </tr>\n",
       "    <tr>\n",
       "      <th>1</th>\n",
       "      <td>2022-05-21</td>\n",
       "      <td>27</td>\n",
       "    </tr>\n",
       "    <tr>\n",
       "      <th>2</th>\n",
       "      <td>2022-05-22</td>\n",
       "      <td>29</td>\n",
       "    </tr>\n",
       "    <tr>\n",
       "      <th>3</th>\n",
       "      <td>2022-05-23</td>\n",
       "      <td>18</td>\n",
       "    </tr>\n",
       "    <tr>\n",
       "      <th>4</th>\n",
       "      <td>2022-05-24</td>\n",
       "      <td>50</td>\n",
       "    </tr>\n",
       "  </tbody>\n",
       "</table>\n",
       "</div>"
      ],
      "text/plain": [
       "         date  ativities\n",
       "0  2022-05-20         41\n",
       "1  2022-05-21         27\n",
       "2  2022-05-22         29\n",
       "3  2022-05-23         18\n",
       "4  2022-05-24         50"
      ]
     },
     "execution_count": 11,
     "metadata": {},
     "output_type": "execute_result"
    }
   ],
   "source": [
    "df_acts = df.groupby(\"date\").size().to_frame(name=\"ativities\").reset_index()\n",
    "df_acts.head()"
   ]
  },
  {
   "cell_type": "code",
   "execution_count": 12,
   "id": "08e35527-0b42-4b4e-bffc-f37acc8da1dd",
   "metadata": {},
   "outputs": [
    {
     "data": {
      "text/html": [
       "<div>\n",
       "<style scoped>\n",
       "    .dataframe tbody tr th:only-of-type {\n",
       "        vertical-align: middle;\n",
       "    }\n",
       "\n",
       "    .dataframe tbody tr th {\n",
       "        vertical-align: top;\n",
       "    }\n",
       "\n",
       "    .dataframe thead th {\n",
       "        text-align: right;\n",
       "    }\n",
       "</style>\n",
       "<table border=\"1\" class=\"dataframe\">\n",
       "  <thead>\n",
       "    <tr style=\"text-align: right;\">\n",
       "      <th></th>\n",
       "      <th>date</th>\n",
       "      <th>users</th>\n",
       "    </tr>\n",
       "  </thead>\n",
       "  <tbody>\n",
       "    <tr>\n",
       "      <th>0</th>\n",
       "      <td>2022-05-20</td>\n",
       "      <td>18</td>\n",
       "    </tr>\n",
       "    <tr>\n",
       "      <th>1</th>\n",
       "      <td>2022-05-21</td>\n",
       "      <td>16</td>\n",
       "    </tr>\n",
       "    <tr>\n",
       "      <th>2</th>\n",
       "      <td>2022-05-22</td>\n",
       "      <td>15</td>\n",
       "    </tr>\n",
       "    <tr>\n",
       "      <th>3</th>\n",
       "      <td>2022-05-23</td>\n",
       "      <td>10</td>\n",
       "    </tr>\n",
       "    <tr>\n",
       "      <th>4</th>\n",
       "      <td>2022-05-24</td>\n",
       "      <td>29</td>\n",
       "    </tr>\n",
       "  </tbody>\n",
       "</table>\n",
       "</div>"
      ],
      "text/plain": [
       "         date  users\n",
       "0  2022-05-20     18\n",
       "1  2022-05-21     16\n",
       "2  2022-05-22     15\n",
       "3  2022-05-23     10\n",
       "4  2022-05-24     29"
      ]
     },
     "execution_count": 12,
     "metadata": {},
     "output_type": "execute_result"
    }
   ],
   "source": [
    "df_users = df.groupby(\"date\")[\"user_id\"].nunique().reset_index()\n",
    "df_users.rename(columns={\"user_id\": \"users\"}, inplace=True)\n",
    "df_users.head()"
   ]
  },
  {
   "cell_type": "code",
   "execution_count": 18,
   "id": "75d6823c-63bf-400f-a4b6-8d70575f8539",
   "metadata": {},
   "outputs": [],
   "source": [
    "def plot_daily(df: pd.DataFrame) -> st.plotly_chart:\n",
    "    # streamlit with plotly chart\n",
    "    fig = px.line(df, x=\"date\", y=df.columns[1])\n",
    "    st.plotly_chart(fig)"
   ]
  },
  {
   "cell_type": "code",
   "execution_count": 19,
   "id": "e90cb73c-38de-440c-9dcd-33a88b7f24ec",
   "metadata": {},
   "outputs": [
    {
     "ename": "NameError",
     "evalue": "name 'fig' is not defined",
     "output_type": "error",
     "traceback": [
      "\u001b[1;31m---------------------------------------------------------------------------\u001b[0m",
      "\u001b[1;31mNameError\u001b[0m                                 Traceback (most recent call last)",
      "Cell \u001b[1;32mIn[19], line 1\u001b[0m\n\u001b[1;32m----> 1\u001b[0m st\u001b[38;5;241m.\u001b[39mplotly_chart(\u001b[43mfig\u001b[49m)\n",
      "\u001b[1;31mNameError\u001b[0m: name 'fig' is not defined"
     ]
    }
   ],
   "source": [
    "st.plotly_chart(fig)"
   ]
  },
  {
   "cell_type": "code",
   "execution_count": 20,
   "id": "78009f7c-8daa-44f9-8742-93723d78a95f",
   "metadata": {},
   "outputs": [],
   "source": [
    "def date_slider(df: pd.DataFrame) -> tuple:\n",
    "    slider_dates = st.sidebar.slider(\n",
    "        \"# Pick a date range\",\n",
    "        df.date.min(),\n",
    "        df.date.max(),\n",
    "        (df.date.min(), df.date.max()),\n",
    "    )\n",
    "    return slider_dates"
   ]
  },
  {
   "cell_type": "code",
   "execution_count": 21,
   "id": "8712b64c-3993-4c84-b4f6-f8bc51afd811",
   "metadata": {},
   "outputs": [
    {
     "ename": "NameError",
     "evalue": "name 'slider_dates' is not defined",
     "output_type": "error",
     "traceback": [
      "\u001b[1;31m---------------------------------------------------------------------------\u001b[0m",
      "\u001b[1;31mNameError\u001b[0m                                 Traceback (most recent call last)",
      "Cell \u001b[1;32mIn[21], line 1\u001b[0m\n\u001b[1;32m----> 1\u001b[0m \u001b[43mslider_dates\u001b[49m\n",
      "\u001b[1;31mNameError\u001b[0m: name 'slider_dates' is not defined"
     ]
    }
   ],
   "source": [
    "slider_dates"
   ]
  },
  {
   "cell_type": "code",
   "execution_count": null,
   "id": "9a4200ea-39d8-4658-9296-a59bb169dcb5",
   "metadata": {},
   "outputs": [],
   "source": []
  }
 ],
 "metadata": {
  "kernelspec": {
   "display_name": "Python 3 (ipykernel)",
   "language": "python",
   "name": "python3"
  },
  "language_info": {
   "codemirror_mode": {
    "name": "ipython",
    "version": 3
   },
   "file_extension": ".py",
   "mimetype": "text/x-python",
   "name": "python",
   "nbconvert_exporter": "python",
   "pygments_lexer": "ipython3",
   "version": "3.10.10"
  }
 },
 "nbformat": 4,
 "nbformat_minor": 5
}
